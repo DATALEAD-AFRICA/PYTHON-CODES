{
 "cells": [
  {
   "cell_type": "code",
   "execution_count": 3,
   "metadata": {},
   "outputs": [
    {
     "name": "stdout",
     "output_type": "stream",
     "text": [
      "Note: you may need to restart the kernel to use updated packages.\n"
     ]
    },
    {
     "name": "stderr",
     "output_type": "stream",
     "text": [
      "ERROR: Could not find a version that satisfies the requirement raw_input (from versions: none)\n",
      "ERROR: No matching distribution found for raw_input\n"
     ]
    }
   ],
   "source": [
    "pip install raw_input\n"
   ]
  },
  {
   "cell_type": "code",
   "execution_count": 12,
   "metadata": {},
   "outputs": [
    {
     "name": "stdout",
     "output_type": "stream",
     "text": [
      "The quick brow fox jumps over the lazy dog\n",
      "\n",
      "5\n"
     ]
    }
   ],
   "source": [
    "x = 5\n",
    "print (\"The quick brow fox jumps over the lazy dog\\n\" )\n",
    "print(x)"
   ]
  },
  {
   "cell_type": "code",
   "execution_count": 8,
   "metadata": {},
   "outputs": [
    {
     "name": "stdout",
     "output_type": "stream",
     "text": [
      "Enter your input: Hello there, Welcome to file handling with Python\n",
      "Received input is :  Hello there, Welcome to file handling with Python\n"
     ]
    }
   ],
   "source": [
    "str = input(\"Enter your input: \") \n",
    "print(\"Received input is : \", str) \n"
   ]
  },
  {
   "cell_type": "code",
   "execution_count": 10,
   "metadata": {},
   "outputs": [
    {
     "name": "stdout",
     "output_type": "stream",
     "text": [
      "Enter your input: x*5 for x in range(2,10,2)\n",
      "Received input is :  x*5 for x in range(2,10,2)\n"
     ]
    }
   ],
   "source": [
    "str = input(\"Enter your input: \") \n",
    "print(\"Received input is : \", str) "
   ]
  },
  {
   "cell_type": "code",
   "execution_count": 23,
   "metadata": {},
   "outputs": [
    {
     "name": "stdout",
     "output_type": "stream",
     "text": [
      "Nigeria is my Country and all Nigerians are my brothers and sisters.\n",
      "I love my country and I am proud of its rich and diverse heritage.\n",
      "I shall always strive to be worthy of it.\n",
      "I shall give my respect to my country.\n"
     ]
    }
   ],
   "source": [
    "file1 = open(r\"C:\\Users\\HP\\documents\\MyCountry.txt\", \"r+\")  \n",
    "new_text=file1.read()\n",
    "print(new_text)"
   ]
  },
  {
   "cell_type": "code",
   "execution_count": 29,
   "metadata": {},
   "outputs": [
    {
     "name": "stdout",
     "output_type": "stream",
     "text": [
      "Nigeria is my Country and all Nigerians are my brothers and sisters.\n",
      "\n",
      "I love my country and I am pro\n"
     ]
    }
   ],
   "source": [
    "file2 = open(r\"C:\\Users\\HP\\documents\\MyCountry.txt\", \"r+\")  \n",
    "new_text1=file2.readline()\n",
    "print(new_text1)\n",
    "new_text2=file2.readline(30)\n",
    "print(new_text2)"
   ]
  },
  {
   "cell_type": "code",
   "execution_count": 33,
   "metadata": {},
   "outputs": [
    {
     "name": "stdout",
     "output_type": "stream",
     "text": [
      "['Nigeria is my Country and all Nigerians are my brothers and sisters.\\n', 'I love my country and I am proud of its rich and diverse heritage.\\n', 'I shall always strive to be worthy of it.\\n', 'I shall give my respect to my country.']\n"
     ]
    }
   ],
   "source": [
    "file3 = open(r\"C:\\Users\\HP\\documents\\MyCountry.txt\", \"r+\")  \n",
    "new_text3=file3.readlines()\n",
    "print(new_text3)"
   ]
  },
  {
   "cell_type": "code",
   "execution_count": 34,
   "metadata": {},
   "outputs": [
    {
     "name": "stdout",
     "output_type": "stream",
     "text": [
      "Nigeria is my Country and all Nigerians are my brothers and sisters.\n",
      "\n",
      "I love my country and I am proud of its rich and diverse heritage.\n",
      "\n",
      "I shall always strive to be worthy of it.\n",
      "\n",
      "I shall give my respect to my country.\n"
     ]
    }
   ],
   "source": [
    "file4 = open(r\"C:\\Users\\HP\\documents\\MyCountry.txt\", \"r+\")  \n",
    "for lines in file4:\n",
    "    print(lines)"
   ]
  },
  {
   "cell_type": "code",
   "execution_count": 130,
   "metadata": {},
   "outputs": [
    {
     "name": "stdout",
     "output_type": "stream",
     "text": [
      "Before Flush ----Python is a great language.Yeah itsgreat!!----\n",
      "After Flush \n"
     ]
    }
   ],
   "source": [
    "fo1 = open(r\"C:\\Users\\HP\\documents\\test1.txt\", \"w\")  \n",
    "fo1.write( \"----Python is a great language.Yeah itsgreat!!----\"); \n",
    "fo1.close()\n",
    "\n",
    "file = open(r\"C:\\Users\\HP\\documents\\test1.txt\", \"r+\")  \n",
    "file_content=file.read()\n",
    "print(\"Before Flush\", file_content)\n",
    "\n",
    "file.flush()\n",
    "file_content=file.read()\n",
    "print(\"After Flush\", file_content)"
   ]
  },
  {
   "cell_type": "code",
   "execution_count": null,
   "metadata": {},
   "outputs": [],
   "source": [
    "with open(\"C:\\Users\\HP\\documents\\test2.txt\", \"w\")  \n",
    "fo1.write( \"----Python is a great language.Yeah itsgreat!!----\"); \n",
    "fo1.close()"
   ]
  },
  {
   "cell_type": "code",
   "execution_count": 127,
   "metadata": {},
   "outputs": [
    {
     "name": "stdout",
     "output_type": "stream",
     "text": [
      "----Python is a great language.Yeah itsgreat!!----\n",
      "String length is 50\n",
      "\n",
      "\n",
      " Python is a great language.Yeah itsgreat!!----\n",
      "String length is 46\n",
      "\n",
      "\n",
      " ----Python is a great language.Yeah itsgreat!!\n",
      "String length is 46\n"
     ]
    }
   ],
   "source": [
    "file5 = open(r\"C:\\Users\\HP\\documents\\test1.txt\", \"r+\")  \n",
    "text=file5.read()\n",
    "new_text4=text.strip()\n",
    "print(new_text4)\n",
    "print(\"String length is\",len(new_text4))\n",
    "\n",
    "new_text5=text.lstrip(\"----\")\n",
    "print(\"\\n\\n\",new_text5)\n",
    "print(\"String length is\",len(new_text5))\n",
    "\n",
    "new_text6=text.rstrip(\"----\")\n",
    "print(\"\\n\\n\",new_text6)\n",
    "print(\"String length is\",len(new_text6))"
   ]
  },
  {
   "cell_type": "code",
   "execution_count": 66,
   "metadata": {},
   "outputs": [
    {
     "name": "stdout",
     "output_type": "stream",
     "text": [
      "Current Directory : C:\\Users\\HP\\Documents\n",
      "Created Directory : None\n",
      "Changed Directory : None\n",
      "New current Directory : C:\\Users\\HP\\Documents\n",
      "Deleted Directory : None\n"
     ]
    }
   ],
   "source": [
    "import os\n",
    "\n",
    "get_method = os.getcwd()\n",
    "print(\"Current Directory :\",get_method) \n",
    "mk_method = os.mkdir(\"testing\") \n",
    "print(\"Created Directory :\",mk_method)\n",
    "ch_method = os.chdir(r\"C:\\Users\\HP\\Documents\") \n",
    "print(\"Changed Directory :\",ch_method)\n",
    "get_method_new = os.getcwd() \n",
    "print(\"New current Directory :\",get_method_new)\n",
    "rm_method = os.rmdir('testing')\n",
    "print(\"Deleted Directory :\",rm_method)"
   ]
  },
  {
   "cell_type": "code",
   "execution_count": null,
   "metadata": {},
   "outputs": [],
   "source": [
    "fo = open(\"foo.txt\", \"wb\") \n",
    "print \"Name of the file: \", fo.name \n",
    "print \"Closed or not : \", fo.closed \n",
    "print \"Opening mode : \", fo.mode \n",
    "print \"Softspace flag : \", fo.softspace \n"
   ]
  },
  {
   "cell_type": "code",
   "execution_count": null,
   "metadata": {},
   "outputs": [],
   "source": [
    "fo = open(\"foo.txt\", \"wb\") \n",
    "print \"Name of the file: \", fo.name\n",
    "fo.close() \n"
   ]
  },
  {
   "cell_type": "code",
   "execution_count": null,
   "metadata": {},
   "outputs": [],
   "source": [
    "fileObject.write(string)"
   ]
  },
  {
   "cell_type": "code",
   "execution_count": 92,
   "metadata": {},
   "outputs": [
    {
     "name": "stdout",
     "output_type": "stream",
     "text": [
      "Python is a great language.\n",
      "\n",
      "Yeah its great!!\n",
      "\n",
      "\n"
     ]
    }
   ],
   "source": [
    "fo1 = open(r\"C:\\Users\\HP\\documents\\test1.txt\", \"w\")  \n",
    "fo1.write( \"Python is a great language.\\r\\nYeah its great!!\\r\\n\"); \n",
    "fo1.close()\n",
    "\n",
    "fo1 = open(r\"C:\\Users\\HP\\documents\\test1.txt\", \"r\")\n",
    "new_text=fo1.read()\n",
    "print(new_text)\n",
    "fo1.close() \n"
   ]
  },
  {
   "cell_type": "code",
   "execution_count": 19,
   "metadata": {},
   "outputs": [
    {
     "ename": "SyntaxError",
     "evalue": "Missing parentheses in call to 'print'. Did you mean print(\"Read String is : \", str)? (<ipython-input-19-72f626f34e9a>, line 3)",
     "output_type": "error",
     "traceback": [
      "\u001b[1;36m  File \u001b[1;32m\"<ipython-input-19-72f626f34e9a>\"\u001b[1;36m, line \u001b[1;32m3\u001b[0m\n\u001b[1;33m    print \"Read String is : \", str\u001b[0m\n\u001b[1;37m          ^\u001b[0m\n\u001b[1;31mSyntaxError\u001b[0m\u001b[1;31m:\u001b[0m Missing parentheses in call to 'print'. Did you mean print(\"Read String is : \", str)?\n"
     ]
    }
   ],
   "source": [
    "fo = open(\"foo.txt\", \"r+\") \n",
    "str = fo.read(10); \n",
    "print \"Read String is : \", str \n",
    "fo.close() \n"
   ]
  },
  {
   "cell_type": "code",
   "execution_count": 150,
   "metadata": {},
   "outputs": [
    {
     "name": "stdout",
     "output_type": "stream",
     "text": [
      "Read String is :  Nigeria is my Country\n",
      "Current file position :  21\n",
      "Again read String is :  my Country\n"
     ]
    }
   ],
   "source": [
    "fo = open(r\"C:\\Users\\HP\\documents\\MyCountry.txt\", \"r+\") \n",
    "string1 = fo.read(21); \n",
    "\n",
    "print(\"Read String is : \", string1)\n",
    "\n",
    "position = fo.tell(); \n",
    "print(\"Current file position : \", position) \n",
    "\n",
    "fo.seek(11, 0); \n",
    "\n",
    "string2 = fo.read(10); \n",
    "print(\"Again read String is : \", string2)"
   ]
  },
  {
   "cell_type": "code",
   "execution_count": 84,
   "metadata": {},
   "outputs": [
    {
     "name": "stdout",
     "output_type": "stream",
     "text": [
      "Hello World\n"
     ]
    }
   ],
   "source": [
    "with open (\"test1.txt\", \"w\") as file:\n",
    "    file.write(\"Hello World\")\n",
    "    file.close()\n",
    "\n",
    "with open (\"test1.txt\") as file:\n",
    "    data = file.read()\n",
    "    print(data)\n",
    "    file.close()"
   ]
  },
  {
   "cell_type": "code",
   "execution_count": null,
   "metadata": {},
   "outputs": [],
   "source": [
    "with open (\"train.txt\") as file:\n",
    "    data = fil"
   ]
  },
  {
   "cell_type": "code",
   "execution_count": 99,
   "metadata": {},
   "outputs": [
    {
     "name": "stdout",
     "output_type": "stream",
     "text": [
      "Hello World\n"
     ]
    }
   ],
   "source": [
    "import os \n",
    "os.chdir(r\"C:\\Users\\HP\\Documents\\practice\")\n",
    "\n",
    "with open (\"test1.txt\", \"w\") as file:\n",
    "    file.write(\"Hello World\")\n",
    "    file.close()\n",
    "\n",
    "with open (\"test1.txt\") as file:\n",
    "    data = file.read()\n",
    "    print(data)\n",
    "    file.close()"
   ]
  },
  {
   "cell_type": "code",
   "execution_count": 100,
   "metadata": {},
   "outputs": [],
   "source": [
    "import os \n",
    "os.rename(\"test1.txt\", \"new_test.txt\" )\n"
   ]
  },
  {
   "cell_type": "code",
   "execution_count": 101,
   "metadata": {},
   "outputs": [],
   "source": [
    "import os \n",
    "os.remove(\"new_test.txt\")\n"
   ]
  },
  {
   "cell_type": "code",
   "execution_count": null,
   "metadata": {},
   "outputs": [],
   "source": [
    "import os # Create a directory \"test\" \n",
    "os.mkdir(\"test\")\n"
   ]
  },
  {
   "cell_type": "code",
   "execution_count": null,
   "metadata": {},
   "outputs": [],
   "source": [
    "import os \n",
    "os.chdir(\"/home/newdir\") \n"
   ]
  },
  {
   "cell_type": "code",
   "execution_count": null,
   "metadata": {},
   "outputs": [],
   "source": [
    "import os \n",
    "os.getcwd() \n"
   ]
  },
  {
   "cell_type": "code",
   "execution_count": null,
   "metadata": {},
   "outputs": [],
   "source": [
    "import os \n",
    "os.rmdir( \"/tmp/test\" ) \n"
   ]
  },
  {
   "cell_type": "code",
   "execution_count": 156,
   "metadata": {},
   "outputs": [
    {
     "name": "stdout",
     "output_type": "stream",
     "text": [
      "bytearray(b'\\n\\x14\\x1e(2')\n"
     ]
    }
   ],
   "source": [
    "import pickle\n",
    "\n",
    "def write_to_binaryfile():\n",
    "        file = open(\"binary_data.dat\", \"wb\")\n",
    "        x = bytearray([ 10, 20, 30, 40, 50])\n",
    "        pickle.dump( x , file )\n",
    "        file.close\n",
    "        \n",
    "write_to_binaryfile()\n",
    "\n",
    "def read_from_file():\n",
    "        file = open(\"binary_data.dat\", \"rb\")\n",
    "        data = pickle.load(file)\n",
    "        print(data)\n",
    "        file.close\n",
    "\n",
    "read_from_file()"
   ]
  }
 ],
 "metadata": {
  "kernelspec": {
   "display_name": "Python 3",
   "language": "python",
   "name": "python3"
  },
  "language_info": {
   "codemirror_mode": {
    "name": "ipython",
    "version": 3
   },
   "file_extension": ".py",
   "mimetype": "text/x-python",
   "name": "python",
   "nbconvert_exporter": "python",
   "pygments_lexer": "ipython3",
   "version": "3.8.3"
  }
 },
 "nbformat": 4,
 "nbformat_minor": 4
}
