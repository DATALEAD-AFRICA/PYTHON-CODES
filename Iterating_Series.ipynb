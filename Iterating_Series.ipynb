{
 "cells": [
  {
   "cell_type": "code",
   "execution_count": 10,
   "metadata": {},
   "outputs": [
    {
     "name": "stdout",
     "output_type": "stream",
     "text": [
      "['apple', 'banana', 'Dragon fruit', 'Grape', 'Jack Fruit']\n"
     ]
    }
   ],
   "source": [
    "fruits= [\"apple\", \"banana\", \"cherry\",\"Dragon fruit\", \"Fig\", \"Grape\", \"Jack Fruit\" ]\n",
    "new_list= []\n",
    "\n",
    "for fruit in fruits: \n",
    "    if \"a\" in fruit:\n",
    "        new_list.append(fruit)\n",
    "        \n",
    "print(new_list)"
   ]
  },
  {
   "cell_type": "code",
   "execution_count": 11,
   "metadata": {},
   "outputs": [
    {
     "name": "stdout",
     "output_type": "stream",
     "text": [
      "['apple', 'banana', 'Dragon fruit', 'Grape', 'Jack Fruit']\n"
     ]
    }
   ],
   "source": [
    "fruits= [\"apple\", \"banana\", \"cherry\",\"Dragon fruit\", \"Fig\", \"Grape\", \"Jack Fruit\" ]\n",
    "newlist = [fruit for fruit in fruits if \"a\" in fruit]\n",
    "\n",
    "print(newlist)"
   ]
  },
  {
   "cell_type": "code",
   "execution_count": 12,
   "metadata": {},
   "outputs": [
    {
     "name": "stdout",
     "output_type": "stream",
     "text": [
      "['APPLE', 'BANANA', 'DRAGON FRUIT', 'GRAPE', 'JACK FRUIT']\n"
     ]
    }
   ],
   "source": [
    "fruits= [\"apple\", \"banana\", \"cherry\",\"Dragon fruit\", \"Fig\", \"Grape\", \"Jack Fruit\" ]\n",
    "newlist = [fruit.upper() for fruit in fruits if \"a\" in fruit]\n",
    "\n",
    "print(newlist)"
   ]
  },
  {
   "cell_type": "code",
   "execution_count": 14,
   "metadata": {},
   "outputs": [
    {
     "name": "stdout",
     "output_type": "stream",
     "text": [
      "['apple', 'banana', 'dragon fruit', 'grape', 'jack fruit']\n"
     ]
    }
   ],
   "source": [
    "fruits= [\"apple\", \"banana\", \"cherry\",\"Dragon fruit\", \"Fig\", \"Grape\", \"Jack Fruit\" ]\n",
    "newlist = [fruit.lower() for fruit in fruits if \"a\" in fruit]\n",
    "\n",
    "print(newlist)\n"
   ]
  },
  {
   "cell_type": "code",
   "execution_count": 15,
   "metadata": {},
   "outputs": [
    {
     "name": "stdout",
     "output_type": "stream",
     "text": [
      "['DRAGON FRUIT', 'FIG', 'JACK FRUIT']\n"
     ]
    }
   ],
   "source": [
    "fruits= [\"apple\", \"banana\", \"cherry\",\"Dragon fruit\", \"Fig\", \"Grape\", \"Jack Fruit\" ]\n",
    "newlist = [fruit.upper() for fruit in fruits if \"i\" in fruit]\n",
    "\n",
    "print(newlist)"
   ]
  },
  {
   "cell_type": "code",
   "execution_count": 17,
   "metadata": {},
   "outputs": [
    {
     "name": "stdout",
     "output_type": "stream",
     "text": [
      "['DRAGON FRUIT', 'JACK FRUIT']\n"
     ]
    }
   ],
   "source": [
    "fruits= [\"apple\", \"banana\", \"cherry\",\"Dragon fruit\", \"Fig\", \"Grape\", \"Jack Fruit\" ]\n",
    "newlist = [fruit.upper() for fruit in fruits if len(fruit)>6]\n",
    "\n",
    "print(newlist)"
   ]
  },
  {
   "cell_type": "code",
   "execution_count": 29,
   "metadata": {},
   "outputs": [
    {
     "name": "stdout",
     "output_type": "stream",
     "text": [
      "['Dragon fruit', 'Grape', 'Jack Fruit', 'apple', 'banana']\n"
     ]
    }
   ],
   "source": [
    "fruits= [\"Jack Fruit\", \"apple\", \"cherry\",\"Dragon fruit\", \"banana\", \"Fig\", \"Grape\", \"Passion\"]\n",
    "newlist =[fruit.lower() for fri+t in fruits]\n",
    "#new_list.sort()\n",
    "print(new_list)\n",
    "\n",
    "\n"
   ]
  }
 ],
 "metadata": {
  "kernelspec": {
   "display_name": "Python 3",
   "language": "python",
   "name": "python3"
  },
  "language_info": {
   "codemirror_mode": {
    "name": "ipython",
    "version": 3
   },
   "file_extension": ".py",
   "mimetype": "text/x-python",
   "name": "python",
   "nbconvert_exporter": "python",
   "pygments_lexer": "ipython3",
   "version": "3.8.5"
  }
 },
 "nbformat": 4,
 "nbformat_minor": 4
}
