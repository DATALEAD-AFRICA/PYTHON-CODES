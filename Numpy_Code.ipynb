{
  "cells": [
    {
      "cell_type": "markdown",
      "source": [
        "Creating Arrays"
      ],
      "metadata": {
        "id": "gWbP7KbtZyt7"
      }
    },
    {
      "cell_type": "code",
      "source": [
        "import numpy as np\n",
        "\n",
        "list1= [23, 56, 78, 43, 69]\n",
        "set1= set(list1)\n",
        "tuple1= (1, 2, 3)\n",
        "array1 = np.array(list1)\n",
        "array2 = np.array(tuple1)\n",
        "array3 = np.array(set1)\n",
        "\n",
        "print(array1)\n",
        "print(array2)\n",
        "print(array3)"
      ],
      "metadata": {
        "colab": {
          "base_uri": "https://localhost:8080/"
        },
        "id": "1N60e38lZ9sj",
        "outputId": "d0d96920-fdb1-44ad-ef7e-35c53d4a7d7a"
      },
      "execution_count": 1,
      "outputs": [
        {
          "output_type": "stream",
          "name": "stdout",
          "text": [
            "[23 56 78 43 69]\n",
            "[1 2 3]\n",
            "{69, 43, 78, 23, 56}\n"
          ]
        }
      ]
    },
    {
      "cell_type": "markdown",
      "source": [
        "Array Dimensions"
      ],
      "metadata": {
        "id": "lWWGwgDLZ_-h"
      }
    },
    {
      "cell_type": "code",
      "source": [
        "arr1 = np.array(50)\n",
        "\n",
        "print(arr1)\n",
        "print(\"The array's dimension is : \", arr1.ndim)"
      ],
      "metadata": {
        "colab": {
          "base_uri": "https://localhost:8080/"
        },
        "id": "dfjKeHV1aLrl",
        "outputId": "2d3ebeae-7c2a-4cbf-e15a-2fc9b55204a3"
      },
      "execution_count": 2,
      "outputs": [
        {
          "output_type": "stream",
          "name": "stdout",
          "text": [
            "50\n",
            "The array's dimension is :  0\n"
          ]
        }
      ]
    },
    {
      "cell_type": "code",
      "source": [
        "arr2 = np.array([1, 2, 3])\n",
        "\n",
        "print(arr2)\n",
        "print(\"The array's dimension is : \", arr2.ndim)"
      ],
      "metadata": {
        "colab": {
          "base_uri": "https://localhost:8080/"
        },
        "id": "aZRdxLNcaHIn",
        "outputId": "1c28396e-6aff-4a9c-e689-f7e1878b563d"
      },
      "execution_count": 3,
      "outputs": [
        {
          "output_type": "stream",
          "name": "stdout",
          "text": [
            "[1 2 3]\n",
            "The array's dimension is :  1\n"
          ]
        }
      ]
    },
    {
      "cell_type": "code",
      "source": [
        "arr3 = np.array([[1, 2, 3], [4, 5, 6]])\n",
        "\n",
        "print(arr3)\n",
        "print(\"The array's dimension is : \", arr3.ndim)"
      ],
      "metadata": {
        "colab": {
          "base_uri": "https://localhost:8080/"
        },
        "id": "QLoCBNioaSlb",
        "outputId": "882035ec-476c-4ad4-bff5-a327f46b7a38"
      },
      "execution_count": 4,
      "outputs": [
        {
          "output_type": "stream",
          "name": "stdout",
          "text": [
            "[[1 2 3]\n",
            " [4 5 6]]\n",
            "The array's dimension is :  2\n"
          ]
        }
      ]
    },
    {
      "cell_type": "code",
      "source": [
        "arr4 = np.array([[[1, 2, 3], [4, 5, 6]], [[1, 2, 3], [4, 5, 6]]])\n",
        "\n",
        "print(arr4)\n",
        "\n",
        "print(\"The array's dimension is : \", arr4.ndim)"
      ],
      "metadata": {
        "colab": {
          "base_uri": "https://localhost:8080/"
        },
        "id": "6rofw75daXZV",
        "outputId": "53a5f84c-3069-4f56-c7b5-35df5a8cb99f"
      },
      "execution_count": 5,
      "outputs": [
        {
          "output_type": "stream",
          "name": "stdout",
          "text": [
            "[[[1 2 3]\n",
            "  [4 5 6]]\n",
            "\n",
            " [[1 2 3]\n",
            "  [4 5 6]]]\n",
            "The array's dimension is :  3\n"
          ]
        }
      ]
    },
    {
      "cell_type": "code",
      "source": [
        "arr5 = np.array([1, 2, 3, 4], ndmin=6)\n",
        "\n",
        "print(arr5)\n",
        "print('number of dimensions :', arr5.ndim)"
      ],
      "metadata": {
        "colab": {
          "base_uri": "https://localhost:8080/"
        },
        "id": "mMA9B_WwabU8",
        "outputId": "d10b5d7f-99ba-45c2-c78e-a99b444e009b"
      },
      "execution_count": 6,
      "outputs": [
        {
          "output_type": "stream",
          "name": "stdout",
          "text": [
            "[[[[[[1 2 3 4]]]]]]\n",
            "number of dimensions : 6\n"
          ]
        }
      ]
    },
    {
      "cell_type": "markdown",
      "source": [
        "Array Reshaping"
      ],
      "metadata": {
        "id": "eE0jbNIAah3H"
      }
    },
    {
      "cell_type": "code",
      "source": [
        "import numpy as np\n",
        "\n",
        "arr6 = np.array([[10, 20, 30], [2, 4, 5]])\n",
        "\n",
        "print(arr6)\n",
        "\n",
        "print(\"\\nThe array's shape is : \", arr6.shape)\n",
        "\n",
        "arr6.shape = (3,2)\n",
        "\n",
        "print(\"\\n\",arr6)\n",
        "\n",
        "print(\"\\nThe new array's shape is : \", arr6.shape)"
      ],
      "metadata": {
        "colab": {
          "base_uri": "https://localhost:8080/"
        },
        "id": "ICYNd11cajxa",
        "outputId": "6f0c8df1-c47e-41cf-d640-574d64625da7"
      },
      "execution_count": 7,
      "outputs": [
        {
          "output_type": "stream",
          "name": "stdout",
          "text": [
            "[[10 20 30]\n",
            " [ 2  4  5]]\n",
            "\n",
            "The array's shape is :  (2, 3)\n",
            "\n",
            " [[10 20]\n",
            " [30  2]\n",
            " [ 4  5]]\n",
            "\n",
            "The new array's shape is :  (3, 2)\n"
          ]
        }
      ]
    },
    {
      "cell_type": "code",
      "source": [
        "import numpy as np\n",
        "\n",
        "arr6 = np.array([[10, 20, 30], [2, 4, 5]])\n",
        "\n",
        "print(arr6)\n",
        "\n",
        "print(\"\\nThe array's shape is : \", arr6.shape)\n",
        "\n",
        "arr6 = arr6.reshape(3,2)\n",
        "\n",
        "print(\"\\n\",arr6)\n",
        "\n",
        "print(\"\\nThe new array's shape is : \", arr6.shape)"
      ],
      "metadata": {
        "colab": {
          "base_uri": "https://localhost:8080/"
        },
        "id": "uI8NOS73alY3",
        "outputId": "dc9628b7-b4d9-4161-bb4b-2b529432c547"
      },
      "execution_count": 8,
      "outputs": [
        {
          "output_type": "stream",
          "name": "stdout",
          "text": [
            "[[10 20 30]\n",
            " [ 2  4  5]]\n",
            "\n",
            "The array's shape is :  (2, 3)\n",
            "\n",
            " [[10 20]\n",
            " [30  2]\n",
            " [ 4  5]]\n",
            "\n",
            "The new array's shape is :  (3, 2)\n"
          ]
        }
      ]
    },
    {
      "cell_type": "markdown",
      "source": [
        "Array Datatype"
      ],
      "metadata": {
        "id": "xXGDMY5sfwUl"
      }
    },
    {
      "cell_type": "code",
      "source": [
        "arr = np.array([1, 2, 3, 4], dtype='S')\n",
        "\n",
        "print(arr)\n",
        "print(arr.dtype)"
      ],
      "metadata": {
        "colab": {
          "base_uri": "https://localhost:8080/"
        },
        "id": "Ql-MRr5afura",
        "outputId": "d05d79a7-24f3-4b3e-be66-a8ace886f5b7"
      },
      "execution_count": 9,
      "outputs": [
        {
          "output_type": "stream",
          "name": "stdout",
          "text": [
            "[b'1' b'2' b'3' b'4']\n",
            "|S1\n"
          ]
        }
      ]
    },
    {
      "cell_type": "code",
      "execution_count": 10,
      "metadata": {
        "colab": {
          "base_uri": "https://localhost:8080/"
        },
        "id": "a5GYzV2NZcjR",
        "outputId": "873c7558-a362-4c6a-b4ff-3bfa431d0eb7"
      },
      "outputs": [
        {
          "output_type": "stream",
          "name": "stdout",
          "text": [
            "[1. 2. 6. 7.] The data type for array1 is:  float64\n",
            "[b'1' b'2' b'3' b'4'] The data type for array2 is:  |S1\n"
          ]
        }
      ],
      "source": [
        "arr1 = np.array([1.0, 2.0, 6,7])\n",
        "arr2 = np.array([1, 2, 3, 4], dtype='S')\n",
        "\n",
        "print(arr1, \"The data type for array1 is: \",arr1.dtype)\n",
        "print(arr2, \"The data type for array2 is: \",arr2.dtype)"
      ]
    },
    {
      "cell_type": "markdown",
      "source": [
        "Array Index"
      ],
      "metadata": {
        "id": "4c2FIyuGg12f"
      }
    },
    {
      "cell_type": "code",
      "execution_count": 11,
      "metadata": {
        "colab": {
          "base_uri": "https://localhost:8080/"
        },
        "id": "-ysfJA69Zcj9",
        "outputId": "56df5236-f480-43e0-8890-fa5f8d18cb8e"
      },
      "outputs": [
        {
          "output_type": "stream",
          "name": "stdout",
          "text": [
            "[1 4 5]\n",
            "[1 4 5]\n",
            "\n",
            " [2 2]\n",
            "[2 2]\n"
          ]
        }
      ],
      "source": [
        "a = np.array([[1,2], [3, 4], [5, 6]])\n",
        "\n",
        "result1 = a[[0, 1, 2], [0, 1, 0]]\n",
        "result2 = np.array([a[0, 0], a[1, 1], a[2, 0]])\n",
        "print(result1) \n",
        "print(result2)  \n",
        "\n",
        "result3 = a[[0, 0], [1, 1]]\n",
        "result4 = np.array([a[0, 1], a[0, 1]])\n",
        "print(\"\\n\",result3)  \n",
        "print(result4)  "
      ]
    },
    {
      "cell_type": "markdown",
      "source": [
        "Slicing"
      ],
      "metadata": {
        "id": "TZf7ihk8iIQh"
      }
    },
    {
      "cell_type": "code",
      "execution_count": 12,
      "metadata": {
        "colab": {
          "base_uri": "https://localhost:8080/"
        },
        "id": "H32gag8JZckP",
        "outputId": "cb296b2d-0a9b-4594-99bd-90a54ebeb88b"
      },
      "outputs": [
        {
          "output_type": "stream",
          "name": "stdout",
          "text": [
            "array a\n",
            " [[ 1  2  3  4]\n",
            " [ 5  6  7  8]\n",
            " [ 9 10 11 12]]\n",
            "\n",
            "array b\n",
            " [[2 3]\n",
            " [6 7]]\n",
            "\n",
            "Updated array b : \n",
            " [[77  3]\n",
            " [ 6  7]]\n",
            "\n",
            " Updated array a\n",
            " [[ 1 77  3  4]\n",
            " [ 5  6  7  8]\n",
            " [ 9 10 11 12]]\n",
            "\n",
            " 77\n"
          ]
        }
      ],
      "source": [
        "import numpy as np\n",
        "\n",
        "a = np.array([[1,2,3,4], [5,6,7,8], [9,10,11,12]])\n",
        "print(\"array a\\n\", a)\n",
        "b = a[:2, 1:3]\n",
        "print(\"\\narray b\\n\",b)\n",
        "b[0, 0] = 77 \n",
        "print(\"\\nUpdated array b : \\n\",b)\n",
        "print(\"\\n Updated array a\\n\",a)\n",
        "print(\"\\n\",a[0, 1])         "
      ]
    },
    {
      "cell_type": "markdown",
      "source": [
        "Boolean Array Indexing"
      ],
      "metadata": {
        "id": "zQxweEm4ihvY"
      }
    },
    {
      "cell_type": "code",
      "execution_count": 13,
      "metadata": {
        "colab": {
          "base_uri": "https://localhost:8080/"
        },
        "id": "nHbo7okdZckF",
        "outputId": "e2484dc3-3368-4ad6-8fed-5dace9b3a8f2"
      },
      "outputs": [
        {
          "output_type": "stream",
          "name": "stdout",
          "text": [
            "[[False False]\n",
            " [ True  True]\n",
            " [ True  True]]\n",
            "\n",
            " [3 4 5 6]\n",
            "\n",
            " [3 4 5 6]\n"
          ]
        }
      ],
      "source": [
        "import numpy as np\n",
        "\n",
        "a = np.array([[1,2], [3, 4], [5, 6]])\n",
        "\n",
        "bool_idx = (a > 2)   \n",
        "\n",
        "print(bool_idx)      \n",
        "\n",
        "print(\"\\n\",a[bool_idx])  \n",
        "print(\"\\n\",a[a > 2])  "
      ]
    },
    {
      "cell_type": "markdown",
      "metadata": {
        "id": "dB1ad9TmZcjT"
      },
      "source": [
        "Sorting Array"
      ]
    },
    {
      "cell_type": "code",
      "execution_count": 14,
      "metadata": {
        "colab": {
          "base_uri": "https://localhost:8080/"
        },
        "id": "dxhwyXafZcjY",
        "outputId": "eb3d1e2c-4ebe-406a-f197-32deba1c2df0"
      },
      "outputs": [
        {
          "output_type": "stream",
          "name": "stdout",
          "text": [
            "The sorted array 1 :  [ 4  6 12 54 67 87]\n",
            "The sorted array 2 :  ['apple' 'banana' 'cherry']\n",
            "The sorted array 3 :  [False  True  True]\n"
          ]
        }
      ],
      "source": [
        "arr1 = np.array([67, 54, 87, 6, 12, 4])\n",
        "arr2 = np.array(['banana', 'cherry', 'apple'])\n",
        "arr3 = np.array([True , False, True])\n",
        "\n",
        "print(\"The sorted array 1 : \",np.sort(arr1))\n",
        "print(\"The sorted array 2 : \",np.sort(arr2))\n",
        "print(\"The sorted array 3 : \",np.sort(arr3))"
      ]
    },
    {
      "cell_type": "markdown",
      "metadata": {
        "id": "xoXh8ePMZcjb"
      },
      "source": [
        "Filtering"
      ]
    },
    {
      "cell_type": "code",
      "execution_count": 15,
      "metadata": {
        "colab": {
          "base_uri": "https://localhost:8080/"
        },
        "id": "urAhkr9NZcjf",
        "outputId": "bead4adc-0a78-4219-b781-44fabb019bd0"
      },
      "outputs": [
        {
          "output_type": "stream",
          "name": "stdout",
          "text": [
            "[False  True False  True False  True False]\n",
            "[2 4 6]\n"
          ]
        }
      ],
      "source": [
        "import numpy as np\n",
        "\n",
        "arr = np.array([1, 2, 3, 4, 5, 6, 7])\n",
        "\n",
        "filtered_arr = arr % 2 == 0\n",
        "\n",
        "new_arr = arr[filtered_arr]\n",
        "\n",
        "print(filtered_arr)\n",
        "print(new_arr)"
      ]
    },
    {
      "cell_type": "code",
      "execution_count": 16,
      "metadata": {
        "colab": {
          "base_uri": "https://localhost:8080/"
        },
        "id": "OdAY4LBxZcjc",
        "outputId": "65e71c1a-1c16-45e1-acc9-a174fc147c1c"
      },
      "outputs": [
        {
          "output_type": "stream",
          "name": "stdout",
          "text": [
            "[False, True, False, True, False, True, False]\n",
            "[2 4 6]\n"
          ]
        }
      ],
      "source": [
        "import numpy as np\n",
        "\n",
        "arr = np.array([1, 2, 3, 4, 5, 6, 7])\n",
        "\n",
        "filtered_arr = []\n",
        "\n",
        "for element in arr:\n",
        " \n",
        "  if element % 2 == 0:\n",
        "    filtered_arr.append(True)\n",
        "  else:\n",
        "    filtered_arr.append(False)\n",
        "\n",
        "newarr = arr[filtered_arr]\n",
        "\n",
        "print(filtered_arr)\n",
        "print(newarr)"
      ]
    },
    {
      "cell_type": "markdown",
      "source": [
        "Masking"
      ],
      "metadata": {
        "id": "qLG5yV2ujhxe"
      }
    },
    {
      "cell_type": "code",
      "execution_count": 17,
      "metadata": {
        "colab": {
          "base_uri": "https://localhost:8080/"
        },
        "id": "H1tT73OdZcjt",
        "outputId": "a39a5cb4-fd3f-4667-fcbb-d27d1680629a"
      },
      "outputs": [
        {
          "output_type": "stream",
          "name": "stdout",
          "text": [
            "[[ 5  6  8 10 12 14]\n",
            " [16 18 20 22 24 26]\n",
            " [28 30 32 34 36 38]\n",
            " [40 42 44 46 48 50]]\n",
            "\n",
            " [[False False  True False  True False]\n",
            " [ True False  True False  True False]\n",
            " [ True False  True False  True False]\n",
            " [ True False  True False  True False]]\n",
            "\n",
            " [ 8 12 16 20 24 28 32 36 40 44 48]\n"
          ]
        }
      ],
      "source": [
        "import numpy as np\n",
        "\n",
        "numbers = np.linspace(5, 50, 24, dtype=int).reshape(4, -1)\n",
        "\n",
        "print(numbers)\n",
        "mask = numbers % 4 == 0\n",
        "print(\"\\n\",mask)\n",
        "print(\"\\n\",numbers[mask])"
      ]
    },
    {
      "cell_type": "markdown",
      "source": [
        "Array Stacking"
      ],
      "metadata": {
        "id": "9QEXStnUhijZ"
      }
    },
    {
      "cell_type": "code",
      "execution_count": 18,
      "metadata": {
        "colab": {
          "base_uri": "https://localhost:8080/"
        },
        "id": "MeGR0wInZciL",
        "outputId": "84908e85-b487-446e-82c7-9a694a30120e"
      },
      "outputs": [
        {
          "output_type": "stream",
          "name": "stdout",
          "text": [
            " The Horizontally Stacked array is :  [ 1  2  3  4 10 20 30 40]  with shape (8,) and dimension 1\n",
            "\n",
            " The vertically Stacked array is :  [[ 1  2  3  4]\n",
            " [10 20 30 40]] with shape (2, 4) and dimension 2\n",
            "\n",
            " The Depth Stacked array is :  [[[ 1 10]\n",
            "  [ 2 20]\n",
            "  [ 3 30]\n",
            "  [ 4 40]]] with shape (1, 4, 2) and dimension  3\n",
            "\n",
            " The Column Stacked array is :  [[ 1 10]\n",
            " [ 2 20]\n",
            " [ 3 30]\n",
            " [ 4 40]] with shape (4, 2) and dimension  2\n",
            "\n",
            " The concatenated array is :  [ 1  2  3  4 10 20 30 40] with shape (8,) and dimension  1\n"
          ]
        }
      ],
      "source": [
        "import numpy as np \n",
        "\n",
        "a = np.array([1,2,3,4]) \n",
        "b = np.array([10,20,30,40]) \n",
        "c = np.hstack((a,b)) \n",
        "d = np.vstack((a,b))\n",
        "e = np.dstack((a,b))\n",
        "f = np.column_stack((a,b))\n",
        "g = np.concatenate((a,b))\n",
        "print(\" The Horizontally Stacked array is : \",c,\" with shape\", c.shape, \"and dimension\", c.ndim)\n",
        "print(\"\\n The vertically Stacked array is : \",d,\"with shape\", d.shape, \"and dimension\" , d.ndim)\n",
        "print(\"\\n The Depth Stacked array is : \",e,\"with shape\", e.shape, \"and dimension \", e.ndim)\n",
        "print(\"\\n The Column Stacked array is : \",f,\"with shape\", f.shape, \"and dimension \", f.ndim)\n",
        "print(\"\\n The concatenated array is : \",g,\"with shape\", g.shape, \"and dimension \", g.ndim)"
      ]
    },
    {
      "cell_type": "markdown",
      "source": [
        "Array Splitting"
      ],
      "metadata": {
        "id": "er2wGanyjn00"
      }
    },
    {
      "cell_type": "code",
      "execution_count": 19,
      "metadata": {
        "colab": {
          "base_uri": "https://localhost:8080/"
        },
        "id": "W3BWuM5LZciQ",
        "outputId": "8ef9e4c9-0959-4b56-8bbf-7662dfbd24ad"
      },
      "outputs": [
        {
          "output_type": "stream",
          "name": "stdout",
          "text": [
            "[array([1, 2, 3, 4]), array([10, 20, 30, 40])]\n",
            "[array([1, 2, 3, 4]), array([10, 20, 30, 40])]\n",
            "[array([1, 2]), array([3, 4]), array([10, 20]), array([30, 40])] \n",
            "\n"
          ]
        }
      ],
      "source": [
        "a = np.array([1,2,3,4,10,20,30,40]) \n",
        "\n",
        "c = np.split(a,2) \n",
        "d = np.array_split(a,2)\n",
        "e = np.hsplit(a,4)\n",
        "\n",
        "print(c)\n",
        "print(d)\n",
        "print(e,\"\\n\")"
      ]
    },
    {
      "cell_type": "code",
      "execution_count": 20,
      "metadata": {
        "colab": {
          "base_uri": "https://localhost:8080/"
        },
        "id": "Cy_cIfm3ZciV",
        "outputId": "1e520bf4-23fd-4690-c83b-808368cb24a2"
      },
      "outputs": [
        {
          "output_type": "stream",
          "name": "stdout",
          "text": [
            "1:  [array([[23, 56, 78, 50]]), array([[12, 58, 67, 47]]), array([], shape=(0, 4), dtype=int64)]\n",
            "2:  [array([[23, 56, 78, 50]]), array([[12, 58, 67, 47]]), array([], shape=(0, 4), dtype=int64)]\n",
            "3:  [array([[23, 56, 78, 50]]), array([[12, 58, 67, 47]])]\n",
            "4:  [array([[23, 56],\n",
            "       [12, 58]]), array([[78, 50],\n",
            "       [67, 47]])]\n",
            "5:  [array([[23, 56, 78, 50],\n",
            "       [12, 58, 67, 47]])]\n"
          ]
        }
      ],
      "source": [
        "b = np.array([[23, 56, 78, 50], [12, 58, 67, 47]])\n",
        "Split1 = np.split(b,[1,3])\n",
        "Split2 = np.array_split(b,3)\n",
        "Split3 = np.vsplit(b,2)\n",
        "Split4 = np.hsplit(b,2)\n",
        "Split5 = np.array_split(b,np.where(b[:,0]==12)[0][0])\n",
        "print(\"1: \", Split1)\n",
        "print(\"2: \", Split2)\n",
        "print(\"3: \", Split3)\n",
        "print(\"4: \", Split4)\n",
        "print(\"5: \", Split5)"
      ]
    },
    {
      "cell_type": "code",
      "execution_count": 21,
      "metadata": {
        "colab": {
          "base_uri": "https://localhost:8080/"
        },
        "id": "Y0eNR5wxZciY",
        "outputId": "47a9f118-b2fe-4d7a-aac0-e403e038e0c5"
      },
      "outputs": [
        {
          "output_type": "stream",
          "name": "stdout",
          "text": [
            "1:  [array([[[23, 56],\n",
            "        [12, 58],\n",
            "        [34, 67],\n",
            "        [12,  7]]]), array([[[78],\n",
            "        [67],\n",
            "        [89],\n",
            "        [68]]]), array([[[50],\n",
            "        [47],\n",
            "        [69],\n",
            "        [23]]])]\n"
          ]
        }
      ],
      "source": [
        "a = np.array([[[23, 56, 78, 50], [12, 58, 67, 47],\n",
        "               [34, 67, 89, 69], [12, 7, 68, 23]]])\n",
        "\n",
        "Split1 = np.dsplit(a, [2,3])\n",
        "\n",
        "print(\"1: \", Split1)"
      ]
    },
    {
      "cell_type": "markdown",
      "metadata": {
        "id": "WdT-xOdKZcib"
      },
      "source": [
        "NO copy"
      ]
    },
    {
      "cell_type": "code",
      "execution_count": 22,
      "metadata": {
        "colab": {
          "base_uri": "https://localhost:8080/"
        },
        "id": "HBCp4SUtZcin",
        "outputId": "1802f6dc-e9a7-4de0-e1a2-225640dae90a"
      },
      "outputs": [
        {
          "output_type": "stream",
          "name": "stdout",
          "text": [
            "Array a :\n",
            "140576336433584\n",
            "[ 1  2  3  4 10 20 30 40] \n",
            "\n",
            "Array b\n",
            "140576336433584\n",
            "[ 1  2  3  4 10 20 30 40] \n",
            "\n",
            "New array b: [1 2 3 4 0 0 0 0]\n",
            "New array a: [1 2 3 4 0 0 0 0]\n"
          ]
        }
      ],
      "source": [
        "a = np.array([1,2,3,4,10,20,30,40])\n",
        "A_id=id(a)\n",
        "print(\"Array a :\")\n",
        "print(A_id)\n",
        "print(a, \"\\n\")\n",
        "b = a\n",
        "B_id=id(b)\n",
        "print(\"Array b\")\n",
        "print(B_id)\n",
        "print(b, \"\\n\")\n",
        "\n",
        "b[4:] = 0\n",
        "print(\"New array b:\",b)\n",
        "\n",
        "print(\"New array a:\",a)"
      ]
    },
    {
      "cell_type": "markdown",
      "metadata": {
        "id": "kZ7aex7hZciv"
      },
      "source": [
        "Shallowed Copy"
      ]
    },
    {
      "cell_type": "code",
      "execution_count": 23,
      "metadata": {
        "colab": {
          "base_uri": "https://localhost:8080/"
        },
        "id": "YNNymjOlZciy",
        "outputId": "58099b89-094f-4a29-8e05-cb805fa670c3"
      },
      "outputs": [
        {
          "output_type": "stream",
          "name": "stdout",
          "text": [
            "Array a :\n",
            "140576372387344\n",
            "[ 1  2  3  4 10 20 30 40] \n",
            "\n",
            "Array b\n",
            "140576372387728\n",
            "[ 1  2  3  4 10 20 30 40] \n",
            "\n",
            "New array b: [1 2 3 4 0 0 0 0]\n",
            "New array a: [1 2 3 4 0 0 0 0]\n"
          ]
        }
      ],
      "source": [
        "a = np.array([1,2,3,4,10,20,30,40])\n",
        "\n",
        "print(\"Array a :\")\n",
        "print(id(a))\n",
        "print(a, \"\\n\")\n",
        "\n",
        "b = a.view()\n",
        "print(\"Array b\")\n",
        "print(id(b))\n",
        "print(b, \"\\n\")\n",
        "\n",
        "b[4:] = 0\n",
        "print(\"New array b:\",b)\n",
        "\n",
        "print(\"New array a:\",a)"
      ]
    },
    {
      "cell_type": "markdown",
      "metadata": {
        "id": "CgCkqV-8Zci9"
      },
      "source": [
        "Base"
      ]
    },
    {
      "cell_type": "code",
      "execution_count": 24,
      "metadata": {
        "colab": {
          "base_uri": "https://localhost:8080/"
        },
        "id": "UPJI1Y9SZcjA",
        "outputId": "acf622c1-b36c-4883-b22b-241a0dc58366"
      },
      "outputs": [
        {
          "output_type": "stream",
          "name": "stdout",
          "text": [
            "Array a :\n",
            "140576336448080\n",
            "[ 1  2  3  4 10 20 30 40] \n",
            "\n",
            "Array b\n",
            "140576336446640\n",
            "[ 1  2  3  4 10 20 30 40] \n",
            "\n",
            "Array b\n",
            "140576336446832\n",
            "[ 1  2  3  4 10 20 30 40] \n",
            "\n",
            "base for a: None\n",
            "base for b: [ 1  2  3  4 10 20 30 40]\n",
            "base for c None\n"
          ]
        }
      ],
      "source": [
        "a = np.array([1,2,3,4,10,20,30,40])\n",
        "\n",
        "print(\"Array a :\")\n",
        "print(id(a))\n",
        "print(a, \"\\n\")\n",
        "\n",
        "b = a.view()\n",
        "print(\"Array b\")\n",
        "print(id(b))\n",
        "print(b, \"\\n\")\n",
        "\n",
        "c = a.copy()\n",
        "print(\"Array b\")\n",
        "print(id(c))\n",
        "print(c, \"\\n\")\n",
        "\n",
        "print(\"base for a:\",a.base)\n",
        "print(\"base for b:\",b.base)\n",
        "print(\"base for c\", c.base)"
      ]
    },
    {
      "cell_type": "markdown",
      "metadata": {
        "id": "VqAcfutPZcjD"
      },
      "source": [
        "Deep Copy"
      ]
    },
    {
      "cell_type": "code",
      "execution_count": 25,
      "metadata": {
        "colab": {
          "base_uri": "https://localhost:8080/"
        },
        "id": "TK64pWrMZcjM",
        "outputId": "358deaaa-a13f-4df2-c6b3-612a03afe431"
      },
      "outputs": [
        {
          "output_type": "stream",
          "name": "stdout",
          "text": [
            "Array a :\n",
            "140576372543280\n",
            "[ 1  2  3  4 10 20 30 40] \n",
            "\n",
            "Array b\n",
            "140576372539440\n",
            "[ 1  2  3  4 10 20 30 40] \n",
            "\n",
            "New array b: [1 2 3 4 0 0 0 0]\n",
            "New array a: [ 1  2  3  4 10 20 30 40]\n"
          ]
        }
      ],
      "source": [
        "a = np.array([1,2,3,4,10,20,30,40])\n",
        "\n",
        "print(\"Array a :\")\n",
        "print(id(a))\n",
        "print(a, \"\\n\")\n",
        "\n",
        "b = a.copy()\n",
        "print(\"Array b\")\n",
        "print(id(b))\n",
        "print(b, \"\\n\")\n",
        "\n",
        "b[4:] = 0\n",
        "print(\"New array b:\",b)\n",
        "\n",
        "print(\"New array a:\",a)"
      ]
    },
    {
      "cell_type": "markdown",
      "metadata": {
        "id": "i8smN0pkZcjv"
      },
      "source": [
        "Phython special functions"
      ]
    },
    {
      "cell_type": "code",
      "execution_count": 26,
      "metadata": {
        "colab": {
          "base_uri": "https://localhost:8080/"
        },
        "id": "_c0FLGQrZcjw",
        "outputId": "9f0a8113-1b54-4cc5-b2f4-ddd2e9bb0e8b"
      },
      "outputs": [
        {
          "output_type": "stream",
          "name": "stdout",
          "text": [
            " np.zeros array result : \n",
            " [[0. 0.]\n",
            " [0. 0.]]\n",
            "\n",
            " np.ones array result : \n",
            " [[1. 1.]]\n",
            "\n",
            " np.full array result : \n",
            " [[7 7]\n",
            " [7 7]]\n",
            "\n",
            "np.eye array result : \n",
            " [[1. 0.]\n",
            " [0. 1.]]\n",
            "\n",
            " np.random array result : \n",
            " [[0.94791524 0.99932138]\n",
            " [0.81110785 0.72917141]]\n"
          ]
        }
      ],
      "source": [
        "import numpy as np\n",
        "\n",
        "a = np.zeros((2,2))   \n",
        "print(\" np.zeros array result : \\n\",a) \n",
        "\n",
        "b = np.ones((1,2))    \n",
        "print(\"\\n np.ones array result : \\n\",b) \n",
        "\n",
        "c = np.full((2,2), 7)  \n",
        "print(\"\\n np.full array result : \\n\",c)\n",
        "\n",
        "d = np.eye(2)         \n",
        "print(\"\\nnp.eye array result : \\n\",d )   \n",
        "\n",
        "e = np.random.random((2,2))  \n",
        "print(\"\\n np.random array result : \\n\",e) "
      ]
    },
    {
      "cell_type": "markdown",
      "metadata": {
        "id": "lJHoj3q4ZckS"
      },
      "source": [
        "Basic Mathematical operations on array"
      ]
    },
    {
      "cell_type": "code",
      "execution_count": 27,
      "metadata": {
        "colab": {
          "base_uri": "https://localhost:8080/"
        },
        "id": "0y54dN75ZckT",
        "outputId": "ecc1ddf7-14ed-4703-966f-b77a2c44c202"
      },
      "outputs": [
        {
          "output_type": "stream",
          "name": "stdout",
          "text": [
            "[[ 6.  8.]\n",
            " [10. 12.]]\n",
            "[[ 6.  8.]\n",
            " [10. 12.]]\n",
            "\n",
            " [[-4. -4.]\n",
            " [-4. -4.]]\n",
            "[[-4. -4.]\n",
            " [-4. -4.]]\n",
            "\n",
            " [[ 5. 12.]\n",
            " [21. 32.]]\n",
            "[[ 5. 12.]\n",
            " [21. 32.]]\n",
            "[[0.2        0.33333333]\n",
            " [0.42857143 0.5       ]]\n",
            "\n",
            " [[0.2        0.33333333]\n",
            " [0.42857143 0.5       ]]\n",
            "\n",
            " [[1.         1.41421356]\n",
            " [1.73205081 2.        ]]\n"
          ]
        }
      ],
      "source": [
        "import numpy as np\n",
        "\n",
        "x = np.array([[1,2],[3,4]], dtype=np.float64)\n",
        "y = np.array([[5,6],[7,8]], dtype=np.float64)\n",
        "\n",
        "# Elementwise sum; both produce the array\n",
        "print(x + y)\n",
        "print(np.add(x, y))\n",
        "\n",
        "# Elementwise difference; both produce the array\n",
        "print(\"\\n\",x - y)\n",
        "print(np.subtract(x, y))\n",
        "\n",
        "# Elementwise product; both produce the array\n",
        "print(\"\\n\",x * y)\n",
        "print(np.multiply(x, y))\n",
        "\n",
        "# Elementwise division; both produce the array\n",
        "print(x / y)\n",
        "print(\"\\n\",np.divide(x, y))\n",
        "\n",
        "# Elementwise square root; produces the array\n",
        "print(\"\\n\",np.sqrt(x))"
      ]
    },
    {
      "cell_type": "code",
      "execution_count": 29,
      "metadata": {
        "colab": {
          "base_uri": "https://localhost:8080/"
        },
        "id": "kKOGpKAgZchd",
        "outputId": "f463e115-d120-499b-a701-4b5e78f1e9e8"
      },
      "outputs": [
        {
          "output_type": "stream",
          "name": "stdout",
          "text": [
            "[ 10  40  90 160]\n",
            "[11 22 33 44]\n"
          ]
        }
      ],
      "source": [
        "a = np.array([1,2,3,4]) \n",
        "b = np.array([10,20,30,40]) \n",
        "c = a * b \n",
        "d = a + b\n",
        "print(c)\n",
        "print(d)"
      ]
    },
    {
      "cell_type": "markdown",
      "source": [
        "Matrix Operation"
      ],
      "metadata": {
        "id": "Yz03CG-QgYDu"
      }
    },
    {
      "cell_type": "code",
      "execution_count": 30,
      "metadata": {
        "colab": {
          "base_uri": "https://localhost:8080/"
        },
        "id": "q5MyBtZaZckW",
        "outputId": "3cda9cb6-963c-4734-8faf-97e9c00834a5"
      },
      "outputs": [
        {
          "output_type": "stream",
          "name": "stdout",
          "text": [
            "219\n",
            "219\n",
            "\n",
            "\n",
            " [29 67]\n",
            "\n",
            " [29 67]\n",
            "\n",
            "\n",
            " [[19 22]\n",
            " [43 50]]\n",
            "\n",
            " [[19 22]\n",
            " [43 50]]\n"
          ]
        }
      ],
      "source": [
        "x = np.array([[1,2],[3,4]])\n",
        "y = np.array([[5,6],[7,8]])\n",
        "\n",
        "v = np.array([9,10])\n",
        "w = np.array([11, 12])\n",
        "\n",
        "# Inner product of vectors\n",
        "print(v.dot(w))\n",
        "print(np.dot(v, w))\n",
        "\n",
        "# Matrix / vector product \n",
        "print(\"\\n\\n\",x.dot(v))\n",
        "print(\"\\n\",np.dot(x, v))\n",
        "\n",
        "# Matrix / matrix product\n",
        "print(\"\\n\\n\",x.dot(y))\n",
        "print(\"\\n\",np.dot(x, y))"
      ]
    },
    {
      "cell_type": "code",
      "execution_count": 31,
      "metadata": {
        "colab": {
          "base_uri": "https://localhost:8080/"
        },
        "id": "Un-KVNz0Zcka",
        "outputId": "1b2e774e-b527-43f9-988e-7a6ec6955877"
      },
      "outputs": [
        {
          "output_type": "stream",
          "name": "stdout",
          "text": [
            "10\n",
            "\n",
            " [4 6]\n",
            "\n",
            " [3 7]\n"
          ]
        }
      ],
      "source": [
        "x = np.array([[1,2],[3,4]])\n",
        "\n",
        "print(np.sum(x)) \n",
        "print(\"\\n\",np.sum(x, axis=0))  \n",
        "print(\"\\n\",np.sum(x, axis=1))  "
      ]
    },
    {
      "cell_type": "code",
      "execution_count": 32,
      "metadata": {
        "colab": {
          "base_uri": "https://localhost:8080/"
        },
        "id": "PIOND7rlZckc",
        "outputId": "70aadbc9-48ee-4ded-a3ed-30b8185cb7fa"
      },
      "outputs": [
        {
          "output_type": "stream",
          "name": "stdout",
          "text": [
            "[[1 2]\n",
            " [3 4]]\n",
            "\n",
            " [[1 3]\n",
            " [2 4]]\n",
            "\n",
            "\n",
            " [1 2 3]\n",
            "\n",
            " [1 2 3]\n"
          ]
        }
      ],
      "source": [
        "x = np.array([[1,2], [3,4]])\n",
        "print(x)    \n",
        "print(\"\\n\",x.T)  \n",
        "\n",
        "# Note that taking the transpose of a rank 1 array does nothing:\n",
        "v = np.array([1,2,3])\n",
        "print(\"\\n\\n\",v)    \n",
        "print(\"\\n\",v.T)  "
      ]
    },
    {
      "cell_type": "markdown",
      "metadata": {
        "id": "LSs8hVH-Zcke"
      },
      "source": [
        "Broadcasting"
      ]
    },
    {
      "cell_type": "code",
      "execution_count": 33,
      "metadata": {
        "colab": {
          "base_uri": "https://localhost:8080/"
        },
        "id": "T91gH7UbZckf",
        "outputId": "bc444362-ddc3-40fd-df30-0f8c7f2781ee"
      },
      "outputs": [
        {
          "output_type": "stream",
          "name": "stdout",
          "text": [
            "[[ 2  2  4]\n",
            " [ 5  5  7]\n",
            " [ 8  8 10]\n",
            " [11 11 13]]\n"
          ]
        }
      ],
      "source": [
        "# We will add the vector v to each row of the matrix x,\n",
        "# storing the result in the matrix y\n",
        "x = np.array([[1,2,3], [4,5,6], [7,8,9], [10, 11, 12]])\n",
        "v = np.array([1, 0, 1])\n",
        "y = np.empty_like(x)   # Create an empty matrix with the same shape as x\n",
        "\n",
        "# Add the vector v to each row of the matrix x with an explicit loop\n",
        "for i in range(4):\n",
        "    y[i, :] = x[i, :] + v\n",
        "\n",
        "print(y)"
      ]
    },
    {
      "cell_type": "code",
      "execution_count": 34,
      "metadata": {
        "colab": {
          "base_uri": "https://localhost:8080/"
        },
        "id": "NfnWqpx1Zckg",
        "outputId": "96510dea-12d6-4e7b-a487-92f44b076eff"
      },
      "outputs": [
        {
          "output_type": "stream",
          "name": "stdout",
          "text": [
            "[[1 0 1]\n",
            " [1 0 1]\n",
            " [1 0 1]\n",
            " [1 0 1]]\n",
            "[[ 2  2  4]\n",
            " [ 5  5  7]\n",
            " [ 8  8 10]\n",
            " [11 11 13]]\n"
          ]
        }
      ],
      "source": [
        "# We will add the vector v to each row of the matrix x,\n",
        "# storing the result in the matrix y\n",
        "x = np.array([[1,2,3], [4,5,6], [7,8,9], [10, 11, 12]])\n",
        "v = np.array([1, 0, 1])\n",
        "vv = np.tile(v, (4, 1))   # Stack 4 copies of v on top of each other\n",
        "print(vv)                 # Prints \"[[1 0 1]\n",
        "                          #          [1 0 1]\n",
        "                          #          [1 0 1]\n",
        "                          #          [1 0 1]]\"\n",
        "y = x + vv  # Add x and vv elementwise\n",
        "print(y)  # Prints \"[[ 2  2  4\n",
        "          #          [ 5  5  7]\n",
        "          #          [ 8  8 10]\n",
        "          #          [11 11 13]]\""
      ]
    },
    {
      "cell_type": "code",
      "execution_count": 35,
      "metadata": {
        "colab": {
          "base_uri": "https://localhost:8080/"
        },
        "id": "rJDgWfriZckh",
        "outputId": "43433ab7-143f-4b71-fd9d-4d13e3208c5b"
      },
      "outputs": [
        {
          "output_type": "stream",
          "name": "stdout",
          "text": [
            "[[ 2  2  4]\n",
            " [ 5  5  7]\n",
            " [ 8  8 10]\n",
            " [11 11 13]]\n"
          ]
        }
      ],
      "source": [
        "# We will add the vector v to each row of the matrix x,\n",
        "# storing the result in the matrix y\n",
        "x = np.array([[1,2,3], [4,5,6], [7,8,9], [10, 11, 12]])\n",
        "v = np.array([1, 0, 1])\n",
        "y = x + v  # Add v to each row of x using broadcasting\n",
        "print(y)  # Prints \"[[ 2  2  4]\n",
        "          #          [ 5  5  7]\n",
        "          #          [ 8  8 10]\n",
        "          #          [11 11 13]]"
      ]
    },
    {
      "cell_type": "markdown",
      "metadata": {
        "id": "IFVf3uguZcki"
      },
      "source": [
        "Broadcasting"
      ]
    },
    {
      "cell_type": "code",
      "execution_count": null,
      "metadata": {
        "id": "A8WCl1QeZckj",
        "outputId": "3e662070-74d3-414e-80f3-256e357504db"
      },
      "outputs": [
        {
          "name": "stdout",
          "output_type": "stream",
          "text": [
            "[[ 4  5]\n",
            " [ 8 10]\n",
            " [12 15]]\n",
            "\n",
            "Summed value \n",
            "  [[2 4 6]\n",
            " [5 7 9]]\n",
            "\n",
            "x transpose \n",
            "  [[1 4]\n",
            " [2 5]\n",
            " [3 6]]\n",
            "\n",
            "summed value\n",
            " [[ 5  9]\n",
            " [ 6 10]\n",
            " [ 7 11]]\n",
            "\n",
            "Answer 2\n",
            " [[ 5  6  7]\n",
            " [ 9 10 11]]\n",
            "\n",
            "product value\n",
            " [[ 2  4  6]\n",
            " [ 8 10 12]]\n"
          ]
        }
      ],
      "source": [
        "v = np.array([1,2,3])  \n",
        "w = np.array([4,5])    \n",
        "\n",
        "v1 = np.reshape(v, (3, 1))\n",
        "print(v1 * w)\n",
        "\n",
        "# Add a vector to each row of a matrix\n",
        "x = np.array([[1,2,3], [4,5,6]])\n",
        "print(\"\\nSummed value \\n \" ,x + v)\n",
        "\n",
        "# Add a vector to each column of a matrix\n",
        "print(\"\\nx transpose \\n \",x.T)\n",
        "sum1 = (x.T + w)\n",
        "print(\"\\nsummed value\\n\",sum1)\n",
        "# or.\n",
        "print(\"\\nAnswer 2\\n\",x + np.reshape(w, (2, 1)))\n",
        "\n",
        "# Multiply a matrix by a constant:\n",
        "print(\"\\nproduct value\\n\",x * 2)"
      ]
    },
    {
      "cell_type": "markdown",
      "metadata": {
        "id": "qWlYn1VBZckk"
      },
      "source": [
        "iterating array"
      ]
    },
    {
      "cell_type": "code",
      "execution_count": null,
      "metadata": {
        "id": "sr5P8OxhZckl",
        "outputId": "212bf08c-c862-47c9-84c3-d63de67c8055"
      },
      "outputs": [
        {
          "name": "stdout",
          "output_type": "stream",
          "text": [
            "Original array is:\n",
            "\n",
            "[[ 0  1  2  3]\n",
            " [ 4  5  6  7]\n",
            " [ 8  9 10 11]]\n",
            "\n",
            "Modified array is:\n",
            "\n",
            "0\n",
            "1\n",
            "2\n",
            "3\n",
            "4\n",
            "5\n",
            "6\n",
            "7\n",
            "8\n",
            "9\n",
            "10\n",
            "11\n"
          ]
        }
      ],
      "source": [
        "a =np.array([[ 0, 1, 2, 3], [ 4, 5, 6, 7], [ 8, 9, 10, 11]])\n",
        "  \n",
        "print('Original array is:\\n')\n",
        "print(a)\n",
        "print()\n",
        " \n",
        "print('Modified array is:\\n')\n",
        " \n",
        "# iterating  an array\n",
        "for x in np.nditer(a):\n",
        "    print(x)\n"
      ]
    },
    {
      "cell_type": "markdown",
      "metadata": {
        "id": "7NSfovZfZckn"
      },
      "source": [
        "\n",
        "\n",
        "```\n",
        "Random Sampling"
      ]
    },
    {
      "cell_type": "code",
      "execution_count": null,
      "metadata": {
        "id": "HwBQm5DkZcjj",
        "outputId": "a7387737-b28b-4fe9-c292-957ba42c9ad1"
      },
      "outputs": [
        {
          "name": "stdout",
          "output_type": "stream",
          "text": [
            "[1 1 0 2 2]\n"
          ]
        }
      ],
      "source": [
        "out_arr = np.random.randint(low = 0, high = 3, size = 5)\n",
        "print (out_arr)"
      ]
    },
    {
      "cell_type": "code",
      "execution_count": null,
      "metadata": {
        "id": "wcB1wlkMZcko",
        "outputId": "8a57e070-c171-40be-945b-acc4fea781c3"
      },
      "outputs": [
        {
          "name": "stdout",
          "output_type": "stream",
          "text": [
            "[[0.46732664 0.42324568 0.35847323]]\n"
          ]
        }
      ],
      "source": [
        "out_arr = np.random.random_sample(size =(1,3))\n",
        "print (out_arr) "
      ]
    },
    {
      "cell_type": "code",
      "execution_count": null,
      "metadata": {
        "id": "7pXaIUUrZcks",
        "outputId": "4c0fb31b-a955-437a-bad3-8e965e767daa"
      },
      "outputs": [
        {
          "name": "stdout",
          "output_type": "stream",
          "text": [
            "[[0.82552119]\n",
            " [0.38060144]]\n"
          ]
        }
      ],
      "source": [
        "out_arr = np.random.ranf(size =(2, 1))\n",
        "print (out_arr)"
      ]
    },
    {
      "cell_type": "code",
      "execution_count": 37,
      "metadata": {
        "colab": {
          "base_uri": "https://localhost:8080/"
        },
        "id": "gClTUAU_Zckt",
        "outputId": "904c8e0d-5da0-4a61-f35d-df94db4c759d"
      },
      "outputs": [
        {
          "output_type": "stream",
          "name": "stdout",
          "text": [
            "[[3 1 2]\n",
            " [2 1 2]\n",
            " [3 3 1]]\n"
          ]
        },
        {
          "output_type": "stream",
          "name": "stderr",
          "text": [
            "/usr/local/lib/python3.7/dist-packages/ipykernel_launcher.py:1: DeprecationWarning: This function is deprecated. Please call randint(1, 3 + 1) instead\n",
            "  \"\"\"Entry point for launching an IPython kernel.\n"
          ]
        }
      ],
      "source": [
        "out_arr = np.random.random_integers(low = 3, size =(3, 3))\n",
        "print(out_arr) "
      ]
    },
    {
      "cell_type": "code",
      "source": [
        "out_arr=np.random.randint(1, 8)\n",
        "print(out_arr)"
      ],
      "metadata": {
        "colab": {
          "base_uri": "https://localhost:8080/"
        },
        "id": "MVWuXHfUm0jl",
        "outputId": "668c9f8c-e76c-41ae-fc37-4f3d7e2585c2"
      },
      "execution_count": 47,
      "outputs": [
        {
          "output_type": "stream",
          "name": "stdout",
          "text": [
            "6\n"
          ]
        }
      ]
    }
  ],
  "metadata": {
    "kernelspec": {
      "display_name": "Python 3",
      "language": "python",
      "name": "python3"
    },
    "language_info": {
      "codemirror_mode": {
        "name": "ipython",
        "version": 3
      },
      "file_extension": ".py",
      "mimetype": "text/x-python",
      "name": "python",
      "nbconvert_exporter": "python",
      "pygments_lexer": "ipython3",
      "version": "3.8.3"
    },
    "colab": {
      "name": "Numpy Code.ipynb",
      "provenance": [],
      "collapsed_sections": []
    }
  },
  "nbformat": 4,
  "nbformat_minor": 0
}