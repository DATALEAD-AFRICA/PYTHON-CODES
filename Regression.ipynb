{
 "cells": [
  {
   "cell_type": "code",
   "execution_count": 5,
   "metadata": {},
   "outputs": [
    {
     "data": {
      "text/html": [
       "<div>\n",
       "<style scoped>\n",
       "    .dataframe tbody tr th:only-of-type {\n",
       "        vertical-align: middle;\n",
       "    }\n",
       "\n",
       "    .dataframe tbody tr th {\n",
       "        vertical-align: top;\n",
       "    }\n",
       "\n",
       "    .dataframe thead th {\n",
       "        text-align: right;\n",
       "    }\n",
       "</style>\n",
       "<table border=\"1\" class=\"dataframe\">\n",
       "  <thead>\n",
       "    <tr style=\"text-align: right;\">\n",
       "      <th></th>\n",
       "      <th>Relative_Compactness</th>\n",
       "      <th>Surface_Area</th>\n",
       "      <th>Wall_Area</th>\n",
       "      <th>Roof_Area</th>\n",
       "      <th>Overall_Height</th>\n",
       "      <th>Orientation</th>\n",
       "      <th>Glazing_Area</th>\n",
       "      <th>Glazing_Area_Distribution</th>\n",
       "      <th>Heating_Load</th>\n",
       "      <th>Cooling_Load</th>\n",
       "    </tr>\n",
       "  </thead>\n",
       "  <tbody>\n",
       "    <tr>\n",
       "      <th>0</th>\n",
       "      <td>0.98</td>\n",
       "      <td>514.5</td>\n",
       "      <td>294.0</td>\n",
       "      <td>110.25</td>\n",
       "      <td>7.0</td>\n",
       "      <td>2</td>\n",
       "      <td>0.0</td>\n",
       "      <td>0</td>\n",
       "      <td>15.55</td>\n",
       "      <td>21.33</td>\n",
       "    </tr>\n",
       "    <tr>\n",
       "      <th>1</th>\n",
       "      <td>0.98</td>\n",
       "      <td>514.5</td>\n",
       "      <td>294.0</td>\n",
       "      <td>110.25</td>\n",
       "      <td>7.0</td>\n",
       "      <td>3</td>\n",
       "      <td>0.0</td>\n",
       "      <td>0</td>\n",
       "      <td>15.55</td>\n",
       "      <td>21.33</td>\n",
       "    </tr>\n",
       "    <tr>\n",
       "      <th>2</th>\n",
       "      <td>0.98</td>\n",
       "      <td>514.5</td>\n",
       "      <td>294.0</td>\n",
       "      <td>110.25</td>\n",
       "      <td>7.0</td>\n",
       "      <td>4</td>\n",
       "      <td>0.0</td>\n",
       "      <td>0</td>\n",
       "      <td>15.55</td>\n",
       "      <td>21.33</td>\n",
       "    </tr>\n",
       "    <tr>\n",
       "      <th>3</th>\n",
       "      <td>0.98</td>\n",
       "      <td>514.5</td>\n",
       "      <td>294.0</td>\n",
       "      <td>110.25</td>\n",
       "      <td>7.0</td>\n",
       "      <td>5</td>\n",
       "      <td>0.0</td>\n",
       "      <td>0</td>\n",
       "      <td>15.55</td>\n",
       "      <td>21.33</td>\n",
       "    </tr>\n",
       "    <tr>\n",
       "      <th>4</th>\n",
       "      <td>0.90</td>\n",
       "      <td>563.5</td>\n",
       "      <td>318.5</td>\n",
       "      <td>122.50</td>\n",
       "      <td>7.0</td>\n",
       "      <td>2</td>\n",
       "      <td>0.0</td>\n",
       "      <td>0</td>\n",
       "      <td>20.84</td>\n",
       "      <td>28.28</td>\n",
       "    </tr>\n",
       "  </tbody>\n",
       "</table>\n",
       "</div>"
      ],
      "text/plain": [
       "   Relative_Compactness  Surface_Area  Wall_Area  Roof_Area  Overall_Height  \\\n",
       "0                  0.98         514.5      294.0     110.25             7.0   \n",
       "1                  0.98         514.5      294.0     110.25             7.0   \n",
       "2                  0.98         514.5      294.0     110.25             7.0   \n",
       "3                  0.98         514.5      294.0     110.25             7.0   \n",
       "4                  0.90         563.5      318.5     122.50             7.0   \n",
       "\n",
       "   Orientation  Glazing_Area  Glazing_Area_Distribution  Heating_Load  \\\n",
       "0            2           0.0                          0         15.55   \n",
       "1            3           0.0                          0         15.55   \n",
       "2            4           0.0                          0         15.55   \n",
       "3            5           0.0                          0         15.55   \n",
       "4            2           0.0                          0         20.84   \n",
       "\n",
       "   Cooling_Load  \n",
       "0         21.33  \n",
       "1         21.33  \n",
       "2         21.33  \n",
       "3         21.33  \n",
       "4         28.28  "
      ]
     },
     "execution_count": 5,
     "metadata": {},
     "output_type": "execute_result"
    }
   ],
   "source": [
    "import pandas as pd\n",
    "import numpy as np\n",
    "from sklearn.preprocessing import MinMaxScaler \n",
    "from sklearn.metrics import mean_absolute_error , mean_squared_error , r2_score \n",
    "from sklearn.model_selection import train_test_split\n",
    "from sklearn.linear_model import Lasso, LinearRegression, Ridge\n",
    "\n",
    "df= pd.read_excel(r\"C:\\Users\\HP\\Documents\\DATASET\\ENB2012_data.xlsx\")\n",
    "column_names = { 'X1' : 'Relative_Compactness' , 'X2' : 'Surface_Area' ,\n",
    "                'X3' : 'Wall_Area' , 'X4' : 'Roof_Area' , 'X5' : 'Overall_Height' ,\n",
    "                'X6' : 'Orientation' , 'X7' : 'Glazing_Area' , \n",
    "                'X8' : 'Glazing_Area_Distribution' , \n",
    "                'Y1' : 'Heating_Load' , 'Y2' : 'Cooling_Load' } \n",
    "df = df.rename(columns=column_names)\n",
    "df.head(5)"
   ]
  },
  {
   "cell_type": "code",
   "execution_count": 7,
   "metadata": {},
   "outputs": [],
   "source": [
    "scaler = MinMaxScaler() \n",
    "normalised_df = pd.DataFrame(scaler.fit_transform(df), columns=df.columns) \n",
    "features_df = normalised_df.drop(columns=[ 'Heating_Load' , 'Cooling_Load' ]) \n",
    "heating_target = normalised_df[ 'Heating_Load' ] \n",
    " \n",
    "x_train, x_test, y_train, y_test = train_test_split(features_df, heating_target, test_size= 0.3 , random_state= 1 )"
   ]
  },
  {
   "cell_type": "code",
   "execution_count": 18,
   "metadata": {},
   "outputs": [
    {
     "name": "stdout",
     "output_type": "stream",
     "text": [
      "The mean absolute error is :  0.063\n",
      "The residual sum of squafres is :  1.823\n",
      "The mean squared error is:  0.089\n",
      "The r squared error is:  0.893\n"
     ]
    }
   ],
   "source": [
    "linear_model = LinearRegression() \n",
    "linear_model.fit(x_train, y_train) \n",
    "linear_predicted_values = linear_model.predict(x_test) \n",
    "\n",
    "lmae = mean_absolute_error(y_test, linear_predicted_values) \n",
    "lrss = np.sum(np.square(y_test - linear_predicted_values))  \n",
    "lrmse = np.sqrt(mean_squared_error(y_test, linear_predicted_values))  \n",
    "lr2_score = r2_score(y_test, linear_predicted_values) \n",
    "\n",
    "print (\"The mean absolute error is : \", round(lmae, 3 ))\n",
    "print(\"The residual sum of squafres is : \", round(lrss, 3 ))\n",
    "print(\"The mean squared error is: \", round(lrmse, 3 ))\n",
    "print(\"The r squared error is: \", round(lr2_score, 3 ))"
   ]
  },
  {
   "cell_type": "code",
   "execution_count": 16,
   "metadata": {},
   "outputs": [
    {
     "name": "stdout",
     "output_type": "stream",
     "text": [
      "The mean absolute error is :  0.063\n",
      "The residual sum of squares is :  1.823\n",
      "The mean squared error is:  0.089\n",
      "The r squared error is:  0.893\n"
     ]
    }
   ],
   "source": [
    "ridge_reg = Ridge(alpha= 0.5 )\n",
    "ridge_reg.fit(x_train, y_train)\n",
    "predicted_values = linear_model.predict(x_test) \n",
    "\n",
    "ridmae = mean_absolute_error(y_test, predicted_values)  \n",
    "ridrss = np.sum(np.square(y_test - predicted_values)) \n",
    "ridrmse = np.sqrt(mean_squared_error(y_test, predicted_values))\n",
    "ridr2_score = r2_score(y_test, predicted_values)\n",
    "\n",
    "\n",
    "print (\"The mean absolute error is : \", round(ridmae, 3 ))\n",
    "print(\"The residual sum of squares is : \", round(ridrss, 3 ))\n",
    "print(\"The mean squared error is: \", round(ridrmse, 3 ))\n",
    "print(\"The r squared error is: \", round(ridr2_score, 3 ))"
   ]
  },
  {
   "cell_type": "code",
   "execution_count": 17,
   "metadata": {},
   "outputs": [
    {
     "name": "stdout",
     "output_type": "stream",
     "text": [
      "The mean absolute error is :  0.063\n",
      "The residual sum of squares is :  1.823\n",
      "The mean squared error is:  0.089\n",
      "The r squared error is:  0.893\n"
     ]
    }
   ],
   "source": [
    "lasso_reg = Lasso(alpha= 0.001 )\n",
    "lasso_reg.fit(x_train, y_train)\n",
    "lamae = mean_absolute_error(y_test, linear_predicted_values) \n",
    "larss = np.sum(np.square(y_test - linear_predicted_values))  \n",
    "larmse = np.sqrt(mean_squared_error(y_test, linear_predicted_values))  \n",
    "lar2_score = r2_score(y_test, linear_predicted_values) \n",
    "\n",
    "print (\"The mean absolute error is : \", round(lamae, 3 ))\n",
    "print(\"The residual sum of squares is : \", round(larss, 3 ))\n",
    "print(\"The mean squared error is: \", round(larmse, 3 ))\n",
    "print(\"The r squared error is: \", round(lar2_score, 3 ))"
   ]
  },
  {
   "cell_type": "code",
   "execution_count": 23,
   "metadata": {},
   "outputs": [
    {
     "name": "stdout",
     "output_type": "stream",
     "text": [
      "                    Features  Linear_Model_Weight  Ridge_Weight  Lasso_weight\n",
      "0               Surface_Area        -3.458933e+12     -0.062275      0.000000\n",
      "1       Relative_Compactness        -6.064125e-01     -0.283471     -0.027719\n",
      "2                Orientation         5.081177e-03      0.003369      0.000000\n",
      "3  Glazing_Area_Distribution         3.077054e-02      0.029088      0.021431\n",
      "4               Glazing_Area         2.125349e-01      0.212449      0.206132\n",
      "5             Overall_Height         3.967285e-01      0.442467      0.463482\n",
      "6                  Wall_Area         2.017711e+12      0.103061      0.200087\n",
      "7                  Roof_Area         2.594200e+12     -0.163192     -0.000000\n"
     ]
    }
   ],
   "source": [
    "def get_weights_df(model, feat, col_name) :  \n",
    "    weights = pd.Series(model.coef_, feat.columns).sort_values() \n",
    "    weights_df = pd.DataFrame(weights).reset_index() \n",
    "    weights_df.columns = [ 'Features' , col_name] \n",
    "    weights_df[col_name].round( 3 )\n",
    "    return weights_df \n",
    "linear_model_weights = get_weights_df(linear_model, x_train, 'Linear_Model_Weight' ) \n",
    "ridge_weights_df = get_weights_df(ridge_reg, x_train, 'Ridge_Weight' ) \n",
    "lasso_weights_df = get_weights_df(lasso_reg, x_train, 'Lasso_weight' )\n",
    "final_weights = pd.merge(linear_model_weights, ridge_weights_df, on= 'Features' )\n",
    "final_weights = pd.merge(final_weights, lasso_weights_df, on= 'Features' )\n",
    "\n",
    "print(final_weights)"
   ]
  }
 ],
 "metadata": {
  "kernelspec": {
   "display_name": "Python 3",
   "language": "python",
   "name": "python3"
  },
  "language_info": {
   "codemirror_mode": {
    "name": "ipython",
    "version": 3
   },
   "file_extension": ".py",
   "mimetype": "text/x-python",
   "name": "python",
   "nbconvert_exporter": "python",
   "pygments_lexer": "ipython3",
   "version": "3.8.3"
  }
 },
 "nbformat": 4,
 "nbformat_minor": 4
}
